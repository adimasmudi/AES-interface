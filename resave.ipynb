{
 "cells": [
  {
   "cell_type": "code",
   "execution_count": 2,
   "metadata": {},
   "outputs": [
    {
     "name": "stderr",
     "output_type": "stream",
     "text": [
      "c:\\Program Files\\Python311\\Lib\\site-packages\\tqdm\\auto.py:21: TqdmWarning: IProgress not found. Please update jupyter and ipywidgets. See https://ipywidgets.readthedocs.io/en/stable/user_install.html\n",
      "  from .autonotebook import tqdm as notebook_tqdm\n",
      "C:\\Users\\adima\\AppData\\Roaming\\Python\\Python311\\site-packages\\transformers\\utils\\generic.py:441: UserWarning: torch.utils._pytree._register_pytree_node is deprecated. Please use torch.utils._pytree.register_pytree_node instead.\n",
      "  _torch_pytree._register_pytree_node(\n",
      "C:\\Users\\adima\\AppData\\Roaming\\Python\\Python311\\site-packages\\transformers\\utils\\generic.py:309: UserWarning: torch.utils._pytree._register_pytree_node is deprecated. Please use torch.utils._pytree.register_pytree_node instead.\n",
      "  _torch_pytree._register_pytree_node(\n"
     ]
    }
   ],
   "source": [
    "from transformers import BertModel,BertTokenizer,BertConfig"
   ]
  },
  {
   "cell_type": "code",
   "execution_count": 4,
   "metadata": {},
   "outputs": [],
   "source": [
    "import torch\n",
    "\n",
    "# Load the state dictionary\n",
    "state_dict = torch.load('savedModels/savedModel-IndoBERT-base-exEpoch6-fold5.pth',map_location=torch.device('cpu'))\n",
    "\n",
    "# Adjust the state dictionary keys\n",
    "new_state_dict = {}\n",
    "for key, value in state_dict.items():\n",
    "    new_key = key.replace(\"bert.\", \"\")\n",
    "    new_state_dict[new_key] = value\n",
    "\n",
    "# Define the configuration for your BERT model\n",
    "config = BertConfig.from_pretrained('indobenchmark/indobert-base-p2', num_labels=2)\n",
    "\n",
    "model = BertModel(config)\n",
    "\n",
    "# Load the state dictionary into the model\n",
    "model.load_state_dict(new_state_dict)\n",
    "\n",
    "output_dir = 'indobert-base-aes-pretrained-e6-f5'\n",
    "\n",
    "# Save the model and its configuration\n",
    "model.save_pretrained(output_dir)\n",
    "config.save_pretrained(output_dir)"
   ]
  }
 ],
 "metadata": {
  "kernelspec": {
   "display_name": "Python 3",
   "language": "python",
   "name": "python3"
  },
  "language_info": {
   "codemirror_mode": {
    "name": "ipython",
    "version": 3
   },
   "file_extension": ".py",
   "mimetype": "text/x-python",
   "name": "python",
   "nbconvert_exporter": "python",
   "pygments_lexer": "ipython3",
   "version": "3.11.1"
  }
 },
 "nbformat": 4,
 "nbformat_minor": 2
}
